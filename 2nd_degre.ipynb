{
  "nbformat": 4,
  "nbformat_minor": 0,
  "metadata": {
    "colab": {
      "name": "2nd_degre.ipynb",
      "provenance": [],
      "authorship_tag": "ABX9TyM0LLMLgeTHAFjQ5SToDR+F",
      "include_colab_link": true
    },
    "kernelspec": {
      "name": "python3",
      "display_name": "Python 3"
    }
  },
  "cells": [
    {
      "cell_type": "markdown",
      "metadata": {
        "id": "view-in-github",
        "colab_type": "text"
      },
      "source": [
        "<a href=\"https://colab.research.google.com/github/IssamMerikhi/MathApp/blob/main/2nd_degre.ipynb\" target=\"_parent\"><img src=\"https://colab.research.google.com/assets/colab-badge.svg\" alt=\"Open In Colab\"/></a>"
      ]
    },
    {
      "cell_type": "code",
      "metadata": {
        "colab": {
          "base_uri": "https://localhost:8080/",
          "height": 350
        },
        "id": "qRm1lIn2NJwm",
        "outputId": "b61de466-4590-4db5-aa40-3c383a38d7f4"
      },
      "source": [
        "### FIRST BOX\r\n",
        "\r\n",
        "\r\n",
        "import random\r\n",
        "import matplotlib.pyplot as plt\r\n",
        "import numpy as np\r\n",
        "\r\n",
        "def equa_second_degre():\r\n",
        "  a = random.randint(-100,100)\r\n",
        "  b = random.randint(-100,100)\r\n",
        "  c = random.randint(-100,100)\r\n",
        "\r\n",
        "  print(\"Your equation is : \",a,\"x^2 + \",b,\"x + \",c)\r\n",
        "  print(\"\\nYour derivative is : \",2*a,\"x + \",b)\r\n",
        "  print(\"\\nLet's plot the function f and its derivative f' : \")\r\n",
        "\r\n",
        "  # 1000 linearly spaced numbers\r\n",
        "  x = np.linspace(-20,20,1000)\r\n",
        "  y = a*x**2 + b*x + c\r\n",
        "  y_prime = 2*a*x + b\r\n",
        "\r\n",
        "  plt.plot(x, y, 'r') #plotting x, f separately \r\n",
        "  plt.plot(x, y_prime, 'b') # plotting x, f' separately\r\n",
        "  plt.axhline(y=0, color='k')\r\n",
        "  plt.axvline(x=0, color='k')\r\n",
        "  plt.show()\r\n",
        "\r\n",
        "equa_second_degre()"
      ],
      "execution_count": 26,
      "outputs": [
        {
          "output_type": "stream",
          "text": [
            "Your equation is :  37 x^2 +  69 x +  -84\n",
            "\n",
            "Your derivative is :  74 x +  69\n",
            "\n",
            "Let's plot the function f and its derivative f' : \n"
          ],
          "name": "stdout"
        },
        {
          "output_type": "display_data",
          "data": {
            "image/png": "[encoded data removed]",
            "text/plain": [
              "<Figure size 432x288 with 1 Axes>"
            ]
          },
          "metadata": {
            "tags": [],
            "needs_background": "light"
          }
        }
      ]
    },
    {
      "cell_type": "code",
      "metadata": {
        "id": "PCwn4J1WNVD7"
      },
      "source": [
        "### SECOND BOX\r\n",
        "\r\n",
        "\r\n",
        "import random\r\n",
        "import matplotlib.pyplot as plt\r\n",
        "import numpy as np"
      ],
      "execution_count": 1,
      "outputs": []
    }
  ]
}